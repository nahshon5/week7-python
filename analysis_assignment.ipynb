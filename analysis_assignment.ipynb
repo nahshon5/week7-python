{
 "cells": [
  {
   "cell_type": "markdown",
   "id": "262e0ec1",
   "metadata": {},
   "source": [
    "## Final Summary and Observations\n",
    "\n",
    "From the analysis of the Iris dataset, we observed the following:\n",
    "\n",
    "- **Missing Values**: The dataset had no missing values, making it clean and ready for analysis.  \n",
    "- **Statistical Summary**: Descriptive statistics revealed differences in petal and sepal dimensions across species.  \n",
    "- **Visualizations**:  \n",
    "  - The **line chart** showed general patterns in sepal length values.  \n",
    "  - The **bar chart** highlighted how Setosa has smaller sepal lengths compared to Versicolor and Virginica.  \n",
    "  - The **histogram** revealed the distribution of petal lengths, showing clusters of small and large values.  \n",
    "  - The **scatter plot** showed clear separation between species based on sepal and petal dimensions.  \n",
    "\n",
    "Overall, the Iris dataset demonstrates distinct patterns that make it suitable for classification tasks in machine learning.\n"
   ]
  },
  {
   "cell_type": "markdown",
   "id": "7639a61e",
   "metadata": {},
   "source": [
    "### Bar Chart: Average Sepal Length per Species\n",
    "This bar chart compares the **average Sepal Length** for each species of Iris.  \n",
    "It clearly shows differences in average Sepal Length between *Setosa*, *Versicolor*, and *Virginica*."
   ]
  },
  {
   "cell_type": "markdown",
   "id": "dfbec8c2",
   "metadata": {},
   "source": [
    "### Histogram: Distribution of Petal Length\n",
    "This histogram shows how the **Petal Length** values are distributed across the dataset.  \n",
    "It helps us see the frequency of short vs. long petals."
   ]
  },
  {
   "cell_type": "markdown",
   "id": "352bdfb9",
   "metadata": {},
   "source": [
    "### Scatter Plot: Sepal Length vs Petal Length\n",
    "\n",
    "The scatter plot below shows the relationship between **Sepal Length** and **Petal Length**.  \n",
    "The points are color-coded by species (Setosa, Versicolor, Virginica).  \n",
    "\n",
    "- Setosa is clearly separated from the other two species.  \n",
    "- Versicolor and Virginica overlap slightly but still form distinguishable groups.  "
   ]
  },
  {
   "cell_type": "code",
   "execution_count": null,
   "id": "4671ed5c",
   "metadata": {
    "vscode": {
     "languageId": "plaintext"
    }
   },
   "outputs": [],
   "source": [
    "plt.figure(figsize=(6,4))\n",
    "sns.scatterplot(\n",
    "    x=\"sepal length (cm)\", \n",
    "    y=\"petal length (cm)\", \n",
    "    hue=\"target\", \n",
    "    palette=\"deep\", \n",
    "    data=df\n",
    ")\n",
    "plt.title(\"Sepal Length vs Petal Length\")\n",
    "plt.xlabel(\"Sepal Length (cm)\")\n",
    "plt.ylabel(\"Petal Length (cm)\")\n",
    "plt.show()\n"
   ]
  },
  {
   "cell_type": "code",
   "execution_count": null,
   "id": "e0788fb9",
   "metadata": {
    "vscode": {
     "languageId": "plaintext"
    }
   },
   "outputs": [],
   "source": [
    "plt.figure(figsize=(6,4))\n",
    "plt.hist(df[\"petal length (cm)\"], bins=20, color=\"skyblue\", edgecolor=\"black\")\n",
    "plt.title(\"Distribution of Petal Length\")\n",
    "plt.xlabel(\"Petal Length (cm)\")\n",
    "plt.ylabel(\"Frequency\")\n",
    "plt.show()"
   ]
  },
  {
   "cell_type": "code",
   "execution_count": null,
   "id": "bf5aba5c",
   "metadata": {
    "vscode": {
     "languageId": "plaintext"
    }
   },
   "outputs": [],
   "source": [
    "plt.figure(figsize=(6,4))\n",
    "grouped[\"sepal length (cm)\"].plot(kind=\"bar\", color=\"orange\")\n",
    "plt.title(\"Average Sepal Length per Species\")\n",
    "plt.xlabel(\"Species (0=setosa, 1=versicolor, 2=virginica)\")\n",
    "plt.ylabel(\"Average Sepal Length (cm)\")\n",
    "plt.show()"
   ]
  },
  {
   "cell_type": "code",
   "execution_count": null,
   "id": "a3a0f83e",
   "metadata": {
    "vscode": {
     "languageId": "plaintext"
    }
   },
   "outputs": [],
   "source": [
    "plt.figure(figsize=(8,5))\n",
    "plt.plot(df.index, df[\"sepal length (cm)\"], label=\"Sepal Length\")\n",
    "plt.title(\"Sepal Length Trend\")\n",
    "plt.xlabel(\"Index\")\n",
    "plt.ylabel(\"Sepal Length (cm)\")\n",
    "plt.legend()\n",
    "plt.show()"
   ]
  },
  {
   "cell_type": "code",
   "execution_count": null,
   "id": "70e3dd7d",
   "metadata": {
    "vscode": {
     "languageId": "plaintext"
    }
   },
   "outputs": [],
   "source": [
    "# Grouping by species (target column) and finding mean\n",
    "grouped = df.groupby(\"target\").mean()\n",
    "print(\"Mean values grouped by species:\")\n",
    "grouped"
   ]
  },
  {
   "cell_type": "code",
   "execution_count": null,
   "id": "9f2a4347",
   "metadata": {
    "vscode": {
     "languageId": "plaintext"
    }
   },
   "outputs": [],
   "source": [
    "print(\"Statistical summary of numerical columns:\")\n",
    "df.describe()"
   ]
  },
  {
   "cell_type": "code",
   "execution_count": null,
   "id": "b21c5ef1",
   "metadata": {
    "vscode": {
     "languageId": "plaintext"
    }
   },
   "outputs": [],
   "source": [
    "print(\"Dataset info:\")\n",
    "print(df.info())\n",
    "\n",
    "print(\"\\nMissing values per column:\")\n",
    "print(df.isnull().sum())\n"
   ]
  },
  {
   "cell_type": "code",
   "execution_count": null,
   "id": "34199136",
   "metadata": {
    "vscode": {
     "languageId": "plaintext"
    }
   },
   "outputs": [],
   "source": [
    "# Load the Iris dataset\n",
    "iris = load_iris(as_frame=True)\n",
    "df = iris.frame\n",
    "\n",
    "print(\"First 5 rows of the dataset:\")\n",
    "df.head()"
   ]
  },
  {
   "cell_type": "code",
   "execution_count": null,
   "id": "469490c1",
   "metadata": {
    "vscode": {
     "languageId": "plaintext"
    }
   },
   "outputs": [],
   "source": [
    "import pandas as pd\n",
    "import matplotlib.pyplot as plt\n",
    "import seaborn as sns\n",
    "from sklearn.datasets import load_iris"
   ]
  }
 ],
 "metadata": {
  "language_info": {
   "name": "python"
  }
 },
 "nbformat": 4,
 "nbformat_minor": 5
}
